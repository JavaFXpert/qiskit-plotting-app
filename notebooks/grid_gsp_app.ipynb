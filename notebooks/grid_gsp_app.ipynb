{
 "cells": [
  {
   "cell_type": "code",
   "execution_count": 1,
   "metadata": {},
   "outputs": [],
   "source": [
    "# Do the necessary import for our program\n",
    "%matplotlib inline\n",
    "from qiskit import Aer\n",
    "from qiskit.aqua.algorithms import Grover\n",
    "from qiskit.aqua.components.oracles import LogicalExpressionOracle\n",
    "from qiskit.tools.visualization import plot_histogram\n",
    "import ipywidgets as widgets\n",
    "import matplotlib.pyplot as plt\n",
    "from IPython.display import clear_output"
   ]
  },
  {
   "cell_type": "code",
   "execution_count": 2,
   "metadata": {},
   "outputs": [],
   "source": [
    "SHOW_CIRCUIT = False\n",
    "\n",
    "def create_expanded_button(description, button_style):\n",
    "    return widgets.Button(description=description, button_style=button_style, \n",
    "                  layout=widgets.Layout(height='auto', width='5%'))"
   ]
  },
  {
   "cell_type": "code",
   "execution_count": 3,
   "metadata": {},
   "outputs": [],
   "source": [
    "header_button = create_expanded_button('Header', 'success')\n",
    "left_button = create_expanded_button('Left', 'info')\n",
    "center_button = create_expanded_button('Center', 'warning')\n",
    "right_button = create_expanded_button('Right', 'info')\n",
    "footer_button = create_expanded_button('Footer', 'success')"
   ]
  },
  {
   "cell_type": "code",
   "execution_count": 4,
   "metadata": {},
   "outputs": [
    {
     "data": {
      "application/vnd.jupyter.widget-view+json": {
       "model_id": "e0bc0b4e969741dda56d91566ab1c6b3",
       "version_major": 2,
       "version_minor": 0
      },
      "text/plain": [
       "AppLayout(children=(Button(button_style='warning', description='Center', layout=Layout(grid_area='center', hei…"
      ]
     },
     "metadata": {},
     "output_type": "display_data"
    }
   ],
   "source": [
    "app_ui = widgets.AppLayout(header=None,\n",
    "          left_sidebar=None,\n",
    "          center=center_button,\n",
    "          right_sidebar=None,\n",
    "          footer=None)\n",
    "\n",
    "display(app_ui)"
   ]
  },
  {
   "cell_type": "code",
   "execution_count": 5,
   "metadata": {},
   "outputs": [],
   "source": [
    "log_expr_widget = widgets.Text(\n",
    "    value='',\n",
    "    description='Logical expression:',\n",
    "    disabled=True\n",
    ")"
   ]
  },
  {
   "cell_type": "code",
   "execution_count": 6,
   "metadata": {},
   "outputs": [],
   "source": [
    "out1 = widgets.Output()\n",
    "out2 = widgets.Output()"
   ]
  },
  {
   "cell_type": "code",
   "execution_count": 7,
   "metadata": {},
   "outputs": [],
   "source": [
    "rel_matrix = None\n",
    "\n",
    "names = [\"A\", \"B\", \"C\", \"D\"]\n",
    "num_names = len(names)\n",
    "\n",
    "\n",
    "REL_NONE = \"\"\n",
    "REL_GOOD = \"good\"\n",
    "REL_BAD = \"bad\"\n",
    "\n",
    "# Compute logical expression from dropdowns\n",
    "def compute_log_expr():\n",
    "    log_expr_str = \"\"\n",
    "    good_rel_exist = False\n",
    "    bad_rel_exist = False\n",
    "    for col_num in range(num_names + 1):\n",
    "        for row_num in range(num_names + 1):\n",
    "            if col_num > row_num and row_num > 0:\n",
    "                if rel_matrix[col_num][row_num].value == 1: #1 is good\n",
    "                    good_rel_exist = True\n",
    "                    break\n",
    "                    \n",
    "    if good_rel_exist:                \n",
    "        log_expr_str = \"(\"\n",
    "        for col_idx in range(num_names + 1):\n",
    "            for row_idx in range(num_names + 1):\n",
    "                if col_idx > row_idx and row_idx > 0:\n",
    "                    if rel_matrix[col_idx][row_idx].value == 1: #1 is good\n",
    "                        log_expr_str += \"(\"\n",
    "                        log_expr_str += rel_matrix[0][row_idx].value\n",
    "                        log_expr_str += \" & \"\n",
    "                        log_expr_str += rel_matrix[col_idx][0].value\n",
    "                        log_expr_str += \")|\"\n",
    "        if log_expr_str[-1] == '|':\n",
    "            log_expr_str = log_expr_str[:-1]\n",
    "        log_expr_str += \")\"\n",
    "        \n",
    "    for col_num in range(num_names + 1):\n",
    "        for row_num in range(num_names + 1):\n",
    "            if col_num > row_num and row_num > 0:\n",
    "                if rel_matrix[col_num][row_num].value == 2: #2 is bad\n",
    "                    bad_rel_exist = True\n",
    "                    break\n",
    "\n",
    "    if bad_rel_exist:\n",
    "        if good_rel_exist:\n",
    "            log_expr_str += \"&\"\n",
    "        bad_log_expr_str = \"(\"\n",
    "        for col_idx in range(num_names + 1):\n",
    "            for row_idx in range(num_names + 1):\n",
    "                if col_idx > row_idx and row_idx > 0:\n",
    "                    if rel_matrix[col_idx][row_idx].value == 2: #2 is bad\n",
    "                        bad_log_expr_str += \"~(\"\n",
    "                        bad_log_expr_str += rel_matrix[0][row_idx].value\n",
    "                        bad_log_expr_str += \" & \"\n",
    "                        bad_log_expr_str += rel_matrix[col_idx][0].value\n",
    "                        bad_log_expr_str += \")&\"\n",
    "        if bad_log_expr_str[-1] == '&':\n",
    "            bad_log_expr_str = bad_log_expr_str[:-1]\n",
    "        bad_log_expr_str += \")\"\n",
    "        log_expr_str += bad_log_expr_str\n",
    "        \n",
    "    log_expr_widget.value = log_expr_str   "
   ]
  },
  {
   "cell_type": "code",
   "execution_count": 8,
   "metadata": {},
   "outputs": [],
   "source": [
    "#def handle_log_expr_text_entered(text_widget):\n",
    "def handle_log_expr_text_entered(some_widget):\n",
    "    with out1:\n",
    "        clear_output()\n",
    "        \n",
    "    compute_log_expr()\n",
    "    algorithm = Grover(LogicalExpressionOracle(log_expr_widget.value))\n",
    "\n",
    "    # Run the algorithm on a QASM simulator, printing the most frequently occurring result\n",
    "    qasm_simulator_backend = Aer.get_backend('qasm_simulator')\n",
    "    qasm_simulator_result = algorithm.run(qasm_simulator_backend)\n",
    "    \n",
    "    if SHOW_CIRCUIT:\n",
    "        circuit = qasm_simulator_result['circuit']\n",
    "    \n",
    "    with out1:\n",
    "        display(plot_histogram(qasm_simulator_result['measurement']))\n",
    "    \n",
    "    if SHOW_CIRCUIT:\n",
    "        with out2:\n",
    "            clear_output()\n",
    "            display(circuit.draw(output='mpl'))\n"
   ]
  },
  {
   "cell_type": "code",
   "execution_count": 9,
   "metadata": {},
   "outputs": [],
   "source": [
    "log_expr_button = widgets.Button(\n",
    "    description = \"Run\",\n",
    ")\n"
   ]
  },
  {
   "cell_type": "code",
   "execution_count": 10,
   "metadata": {},
   "outputs": [],
   "source": [
    "# Relationship model for the grid\n",
    "def compute_rel_matrix_entry(col_num, row_num):\n",
    "    entry = None\n",
    "    if col_num == 0:\n",
    "        if row_num > 0:\n",
    "            entry = widgets.Label(value=names[row_num - 1])\n",
    "        else:\n",
    "            entry = widgets.Label(value='')\n",
    "    elif row_num == 0: \n",
    "        entry = widgets.Label(value=names[col_num - 1])\n",
    "    elif col_num < row_num: \n",
    "        entry = widgets.Dropdown(\n",
    "            options=[('', 0), (REL_GOOD, 1), (REL_BAD, 2)],\n",
    "            value=0,\n",
    "            layout=widgets.Layout(width='auto', height='auto')\n",
    "        )\n",
    "    else:\n",
    "        entry = widgets.Label(value='')\n",
    "    return entry\n",
    "\n",
    "rel_matrix = [[compute_rel_matrix_entry(i, j) for i in range(num_names + 1)] for j in range(num_names + 1)]\n",
    "for col_num in range(num_names + 1):\n",
    "    for row_num in range(num_names + 1):\n",
    "        if col_num > row_num and row_num > 0:\n",
    "            rel_matrix[col_num][row_num].observe(handle_log_expr_text_entered, names='value')            "
   ]
  },
  {
   "cell_type": "code",
   "execution_count": 11,
   "metadata": {},
   "outputs": [],
   "source": [
    "# Make Grid with name headings and dropdown relationships\n",
    "rel_gridbox = widgets.GridBox(children=[rel_matrix[col_idx][row_idx] for row_idx in [0, 1, 2, 3] for col_idx in [0, 2, 3, 4]],\n",
    "        layout=widgets.Layout(\n",
    "            width='auto',\n",
    "            grid_template_columns='70px ' * len(names),\n",
    "            grid_template_rows='30px ' * len(names), \n",
    "            grid_gap='10px 10px')\n",
    "       )"
   ]
  },
  {
   "cell_type": "code",
   "execution_count": 12,
   "metadata": {},
   "outputs": [],
   "source": [
    "tab = widgets.Tab(children = [out1, out2], layout=widgets.Layout(height='auto', width='auto'))\n",
    "tab.set_title(0, 'Probabilities')\n",
    "\n",
    "if SHOW_CIRCUIT:\n",
    "    tab.set_title(1, 'Circuit')\n",
    "\n",
    "center_pane = widgets.HBox([rel_gridbox, widgets.VBox([log_expr_widget, tab])])\n",
    "\n",
    "app_ui.center = center_pane\n"
   ]
  },
  {
   "cell_type": "code",
   "execution_count": null,
   "metadata": {},
   "outputs": [],
   "source": []
  },
  {
   "cell_type": "code",
   "execution_count": null,
   "metadata": {},
   "outputs": [],
   "source": []
  },
  {
   "cell_type": "code",
   "execution_count": null,
   "metadata": {},
   "outputs": [],
   "source": []
  }
 ],
 "metadata": {
  "kernelspec": {
   "display_name": "Python 3",
   "language": "python",
   "name": "python3"
  },
  "language_info": {
   "codemirror_mode": {
    "name": "ipython",
    "version": 3
   },
   "file_extension": ".py",
   "mimetype": "text/x-python",
   "name": "python",
   "nbconvert_exporter": "python",
   "pygments_lexer": "ipython3",
   "version": "3.7.5"
  },
  "pycharm": {
   "stem_cell": {
    "cell_type": "raw",
    "source": [],
    "metadata": {
     "collapsed": false
    }
   }
  }
 },
 "nbformat": 4,
 "nbformat_minor": 4
}