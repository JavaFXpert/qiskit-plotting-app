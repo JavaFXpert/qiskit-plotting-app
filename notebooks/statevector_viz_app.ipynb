{
 "cells": [
  {
   "cell_type": "code",
   "execution_count": 2,
   "metadata": {
    "collapsed": true,
    "pycharm": {
     "is_executing": false
    }
   },
   "outputs": [
    {
     "name": "stdout",
     "text": [
      "{'11': 487, '00': 513}\n"
     ],
     "output_type": "stream"
    }
   ],
   "source": [
    "from qiskit import *\n",
    "from qiskit.visualization import plot_histogram\n",
    "from qiskit.tools.monitor import job_monitor\n",
    "\n",
    "# quantum circuit to make a Bell state \n",
    "bell = QuantumCircuit(2, 2)\n",
    "bell.h(0)\n",
    "bell.cx(0, 1)\n",
    "\n",
    "meas = QuantumCircuit(2, 2)\n",
    "meas.measure([0,1], [0,1])\n",
    "\n",
    "# execute the quantum circuit \n",
    "backend = BasicAer.get_backend('qasm_simulator') # the device to run on\n",
    "circ = bell+meas\n",
    "result = execute(circ, backend, shots=1000).result()\n",
    "counts  = result.get_counts(circ)\n",
    "print(counts)\n",
    "\n"
   ]
  }
 ],
 "metadata": {
  "kernelspec": {
   "display_name": "Python 3",
   "language": "python",
   "name": "python3"
  },
  "language_info": {
   "codemirror_mode": {
    "name": "ipython",
    "version": 2
   },
   "file_extension": ".py",
   "mimetype": "text/x-python",
   "name": "python",
   "nbconvert_exporter": "python",
   "pygments_lexer": "ipython2",
   "version": "2.7.6"
  },
  "pycharm": {
   "stem_cell": {
    "cell_type": "raw",
    "source": [],
    "metadata": {
     "collapsed": false
    }
   }
  }
 },
 "nbformat": 4,
 "nbformat_minor": 0
}